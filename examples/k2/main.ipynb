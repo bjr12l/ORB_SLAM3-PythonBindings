{
 "cells": [
  {
   "cell_type": "code",
   "execution_count": 1,
   "metadata": {},
   "outputs": [],
   "source": [
    "import cv2\n",
    "import yaml\n",
    "import pandas as pd\n",
    "import orbslam3\n",
    "from tqdm import tqdm\n",
    "from pathlib import Path\n",
    "import matplotlib.pyplot as plt"
   ]
  },
  {
   "cell_type": "code",
   "execution_count": 2,
   "metadata": {},
   "outputs": [],
   "source": [
    "from orbslam_k2 import ORBSLAM3\n",
    "from sensor_utils import sync_video, read_logs"
   ]
  },
  {
   "cell_type": "code",
   "execution_count": 3,
   "metadata": {},
   "outputs": [],
   "source": [
    "from sensor_utils import estimate_imu_noise"
   ]
  },
  {
   "cell_type": "code",
   "execution_count": 4,
   "metadata": {},
   "outputs": [],
   "source": [
    "from main import timedelta_from_string"
   ]
  },
  {
   "cell_type": "code",
   "execution_count": 5,
   "metadata": {},
   "outputs": [],
   "source": [
    "PROJECT_DIR = Path(\"..\") / \"..\"\n",
    "VOCABLUARY_PATH = PROJECT_DIR / \"Vocabluary\" / \"ORBvoc.txt\"\n",
    "\n",
    "VIDEO_FOLDER = Path(\"2023-05-14\") / \"video_cam81_flight2_800m\"\n",
    "CONFIG_PATH = VIDEO_FOLDER / \"config.yaml\"\n",
    "ORB_CONFIG_PATH = VIDEO_FOLDER / \"orb_config.yaml\"\n",
    "\n",
    "DATA_DIR = PROJECT_DIR / \"data\" / \"2023-05-14\""
   ]
  },
  {
   "cell_type": "code",
   "execution_count": 6,
   "metadata": {},
   "outputs": [],
   "source": [
    "with open(str(CONFIG_PATH), \"r\") as f:\n",
    "    config = yaml.load(f, Loader=yaml.BaseLoader)"
   ]
  },
  {
   "cell_type": "code",
   "execution_count": 7,
   "metadata": {},
   "outputs": [],
   "source": [
    "offset = pd.Timedelta(minutes=0, seconds=0) # timedelta_from_string(config[\"offset\"])\n",
    "log_start = timedelta_from_string(config[\"log_start\"]) + offset\n",
    "video_start = timedelta_from_string(config[\"video_start\"]) + offset"
   ]
  },
  {
   "cell_type": "code",
   "execution_count": 8,
   "metadata": {},
   "outputs": [],
   "source": [
    "vid = cv2.VideoCapture(str(DATA_DIR / config[\"video_name\"]))\n",
    "vid = sync_video(vid, video_start, 10)"
   ]
  },
  {
   "cell_type": "code",
   "execution_count": 9,
   "metadata": {},
   "outputs": [],
   "source": [
    "logs = read_logs(DATA_DIR, config[\"log_name\"], log_start=log_start)"
   ]
  },
  {
   "cell_type": "code",
   "execution_count": null,
   "metadata": {},
   "outputs": [],
   "source": [
    "logs"
   ]
  },
  {
   "cell_type": "code",
   "execution_count": 10,
   "metadata": {},
   "outputs": [
    {
     "name": "stdout",
     "output_type": "stream",
     "text": [
      "IMU.NoiseGyro: 0.10873195988871344\n",
      "IMU.NoiseAcc: 1.6132326830119297\n",
      "IMU.GyroWalk: 0.011690780802808385\n",
      "IMU.AccWalk: 0.19609376875625625\n",
      "IMU.Frequency: 80.00028803985165\n"
     ]
    }
   ],
   "source": [
    "estimate_imu_noise(logs)"
   ]
  },
  {
   "cell_type": "code",
   "execution_count": 12,
   "metadata": {},
   "outputs": [],
   "source": [
    "logs.index -= logs.index[0]"
   ]
  },
  {
   "cell_type": "code",
   "execution_count": 24,
   "metadata": {},
   "outputs": [
    {
     "data": {
      "text/plain": [
       "Index([           0,     19699000,     20118000,     39237000,     62864000,\n",
       "           63279000,     78835000,    100014000,    100612000,    119699000,\n",
       "       ...\n",
       "       690359240000, 690359504000, 690378819000, 690379194000, 690399906000,\n",
       "       690418816000, 690419189000, 690439044000, 690459186000, 690460014000],\n",
       "      dtype='int64', name='microseconds_from_start', length=55238)"
      ]
     },
     "execution_count": 24,
     "metadata": {},
     "output_type": "execute_result"
    }
   ],
   "source": [
    "(logs.index.total_seconds() * 1e9).astype(int)"
   ]
  },
  {
   "cell_type": "code",
   "execution_count": 17,
   "metadata": {},
   "outputs": [
    {
     "name": "stdout",
     "output_type": "stream",
     "text": [
      "2014-06-24 19:04:12.463556\n"
     ]
    }
   ],
   "source": [
    "import datetime\n",
    "\n",
    "timestamp = 1403636652463555584\n",
    "timestamp_in_seconds = timestamp / 1e9  # Convert from nanoseconds to seconds\n",
    "\n",
    "dt_object = datetime.datetime.fromtimestamp(timestamp_in_seconds)\n",
    "print(dt_object)\n"
   ]
  },
  {
   "cell_type": "code",
   "execution_count": 16,
   "metadata": {},
   "outputs": [],
   "source": [
    "logs[\"timestamp\"] = logs.index.total_seconds()"
   ]
  },
  {
   "cell_type": "code",
   "execution_count": 32,
   "metadata": {},
   "outputs": [],
   "source": [
    "import numpy as np"
   ]
  },
  {
   "cell_type": "code",
   "execution_count": 27,
   "metadata": {},
   "outputs": [
    {
     "data": {
      "text/html": [
       "<div>\n",
       "<style scoped>\n",
       "    .dataframe tbody tr th:only-of-type {\n",
       "        vertical-align: middle;\n",
       "    }\n",
       "\n",
       "    .dataframe tbody tr th {\n",
       "        vertical-align: top;\n",
       "    }\n",
       "\n",
       "    .dataframe thead th {\n",
       "        text-align: right;\n",
       "    }\n",
       "</style>\n",
       "<table border=\"1\" class=\"dataframe\">\n",
       "  <thead>\n",
       "    <tr style=\"text-align: right;\">\n",
       "      <th></th>\n",
       "      <th>GyrX</th>\n",
       "      <th>GyrY</th>\n",
       "      <th>GyrZ</th>\n",
       "      <th>AccX</th>\n",
       "      <th>AccY</th>\n",
       "      <th>AccZ</th>\n",
       "    </tr>\n",
       "    <tr>\n",
       "      <th>microseconds_from_start</th>\n",
       "      <th></th>\n",
       "      <th></th>\n",
       "      <th></th>\n",
       "      <th></th>\n",
       "      <th></th>\n",
       "      <th></th>\n",
       "    </tr>\n",
       "  </thead>\n",
       "  <tbody>\n",
       "    <tr>\n",
       "      <th>0 days 00:00:00</th>\n",
       "      <td>-0.015062</td>\n",
       "      <td>0.003976</td>\n",
       "      <td>0.064576</td>\n",
       "      <td>0.118126</td>\n",
       "      <td>-0.041373</td>\n",
       "      <td>-9.771868</td>\n",
       "    </tr>\n",
       "    <tr>\n",
       "      <th>0 days 00:00:00.019699</th>\n",
       "      <td>0.003505</td>\n",
       "      <td>0.005789</td>\n",
       "      <td>0.057387</td>\n",
       "      <td>0.056317</td>\n",
       "      <td>0.096426</td>\n",
       "      <td>-9.581341</td>\n",
       "    </tr>\n",
       "    <tr>\n",
       "      <th>0 days 00:00:00.020118</th>\n",
       "      <td>0.007014</td>\n",
       "      <td>0.004352</td>\n",
       "      <td>0.057571</td>\n",
       "      <td>0.077467</td>\n",
       "      <td>0.068166</td>\n",
       "      <td>-9.743966</td>\n",
       "    </tr>\n",
       "    <tr>\n",
       "      <th>0 days 00:00:00.039237</th>\n",
       "      <td>0.010524</td>\n",
       "      <td>0.002915</td>\n",
       "      <td>0.057755</td>\n",
       "      <td>0.098617</td>\n",
       "      <td>0.039905</td>\n",
       "      <td>-9.906590</td>\n",
       "    </tr>\n",
       "    <tr>\n",
       "      <th>0 days 00:00:00.062864</th>\n",
       "      <td>0.027580</td>\n",
       "      <td>0.006464</td>\n",
       "      <td>0.060288</td>\n",
       "      <td>0.130091</td>\n",
       "      <td>0.004829</td>\n",
       "      <td>-9.914318</td>\n",
       "    </tr>\n",
       "  </tbody>\n",
       "</table>\n",
       "</div>"
      ],
      "text/plain": [
       "                             GyrX      GyrY      GyrZ      AccX      AccY   \n",
       "microseconds_from_start                                                     \n",
       "0 days 00:00:00         -0.015062  0.003976  0.064576  0.118126 -0.041373  \\\n",
       "0 days 00:00:00.019699   0.003505  0.005789  0.057387  0.056317  0.096426   \n",
       "0 days 00:00:00.020118   0.007014  0.004352  0.057571  0.077467  0.068166   \n",
       "0 days 00:00:00.039237   0.010524  0.002915  0.057755  0.098617  0.039905   \n",
       "0 days 00:00:00.062864   0.027580  0.006464  0.060288  0.130091  0.004829   \n",
       "\n",
       "                             AccZ  \n",
       "microseconds_from_start            \n",
       "0 days 00:00:00         -9.771868  \n",
       "0 days 00:00:00.019699  -9.581341  \n",
       "0 days 00:00:00.020118  -9.743966  \n",
       "0 days 00:00:00.039237  -9.906590  \n",
       "0 days 00:00:00.062864  -9.914318  "
      ]
     },
     "execution_count": 27,
     "metadata": {},
     "output_type": "execute_result"
    }
   ],
   "source": [
    "logs[[\"GyrX\", \"GyrY\", \"GyrZ\", \"AccX\", \"AccY\", \"AccZ\"]].head()"
   ]
  },
  {
   "cell_type": "code",
   "execution_count": 12,
   "metadata": {},
   "outputs": [],
   "source": [
    "prev_timestamp = pd.Timedelta(seconds=0)"
   ]
  },
  {
   "cell_type": "code",
   "execution_count": 13,
   "metadata": {},
   "outputs": [],
   "source": [
    "frame, timestamp = next(vid)"
   ]
  },
  {
   "cell_type": "code",
   "execution_count": 19,
   "metadata": {},
   "outputs": [
    {
     "data": {
      "text/html": [
       "<div>\n",
       "<style scoped>\n",
       "    .dataframe tbody tr th:only-of-type {\n",
       "        vertical-align: middle;\n",
       "    }\n",
       "\n",
       "    .dataframe tbody tr th {\n",
       "        vertical-align: top;\n",
       "    }\n",
       "\n",
       "    .dataframe thead th {\n",
       "        text-align: right;\n",
       "    }\n",
       "</style>\n",
       "<table border=\"1\" class=\"dataframe\">\n",
       "  <thead>\n",
       "    <tr style=\"text-align: right;\">\n",
       "      <th></th>\n",
       "      <th>microseconds_from_start</th>\n",
       "      <th>GyrX</th>\n",
       "      <th>GyrY</th>\n",
       "      <th>GyrZ</th>\n",
       "      <th>AccX</th>\n",
       "      <th>AccY</th>\n",
       "      <th>AccZ</th>\n",
       "      <th>DesRoll</th>\n",
       "      <th>Roll</th>\n",
       "      <th>DesPitch</th>\n",
       "      <th>Pitch</th>\n",
       "      <th>DesYaw</th>\n",
       "      <th>Yaw</th>\n",
       "      <th>Lat</th>\n",
       "      <th>Lng</th>\n",
       "      <th>Alt</th>\n",
       "      <th>x</th>\n",
       "      <th>y</th>\n",
       "      <th>z</th>\n",
       "    </tr>\n",
       "    <tr>\n",
       "      <th>microseconds_from_start</th>\n",
       "      <th></th>\n",
       "      <th></th>\n",
       "      <th></th>\n",
       "      <th></th>\n",
       "      <th></th>\n",
       "      <th></th>\n",
       "      <th></th>\n",
       "      <th></th>\n",
       "      <th></th>\n",
       "      <th></th>\n",
       "      <th></th>\n",
       "      <th></th>\n",
       "      <th></th>\n",
       "      <th></th>\n",
       "      <th></th>\n",
       "      <th></th>\n",
       "      <th></th>\n",
       "      <th></th>\n",
       "      <th></th>\n",
       "    </tr>\n",
       "  </thead>\n",
       "  <tbody>\n",
       "    <tr>\n",
       "      <th>0 days 00:00:00</th>\n",
       "      <td>611017983</td>\n",
       "      <td>-0.015062</td>\n",
       "      <td>0.003976</td>\n",
       "      <td>0.064576</td>\n",
       "      <td>0.118126</td>\n",
       "      <td>-0.041373</td>\n",
       "      <td>-9.771868</td>\n",
       "      <td>1.36</td>\n",
       "      <td>1.316667</td>\n",
       "      <td>-0.10</td>\n",
       "      <td>-0.150000</td>\n",
       "      <td>0.0</td>\n",
       "      <td>131.880000</td>\n",
       "      <td>50.396237</td>\n",
       "      <td>30.061421</td>\n",
       "      <td>807.39375</td>\n",
       "      <td>0.000000</td>\n",
       "      <td>0.000000</td>\n",
       "      <td>0.00000</td>\n",
       "    </tr>\n",
       "    <tr>\n",
       "      <th>0 days 00:00:00.019699</th>\n",
       "      <td>611037682</td>\n",
       "      <td>0.003505</td>\n",
       "      <td>0.005789</td>\n",
       "      <td>0.057387</td>\n",
       "      <td>0.056317</td>\n",
       "      <td>0.096426</td>\n",
       "      <td>-9.581341</td>\n",
       "      <td>1.36</td>\n",
       "      <td>1.333333</td>\n",
       "      <td>-0.10</td>\n",
       "      <td>-0.140000</td>\n",
       "      <td>0.0</td>\n",
       "      <td>131.920000</td>\n",
       "      <td>50.396236</td>\n",
       "      <td>30.061424</td>\n",
       "      <td>807.39250</td>\n",
       "      <td>-0.096649</td>\n",
       "      <td>0.197341</td>\n",
       "      <td>-0.00125</td>\n",
       "    </tr>\n",
       "    <tr>\n",
       "      <th>0 days 00:00:00.020118</th>\n",
       "      <td>611038101</td>\n",
       "      <td>0.007014</td>\n",
       "      <td>0.004352</td>\n",
       "      <td>0.057571</td>\n",
       "      <td>0.077467</td>\n",
       "      <td>0.068166</td>\n",
       "      <td>-9.743966</td>\n",
       "      <td>1.36</td>\n",
       "      <td>1.350000</td>\n",
       "      <td>-0.10</td>\n",
       "      <td>-0.130000</td>\n",
       "      <td>0.0</td>\n",
       "      <td>131.960000</td>\n",
       "      <td>50.396235</td>\n",
       "      <td>30.061427</td>\n",
       "      <td>807.39125</td>\n",
       "      <td>-0.193298</td>\n",
       "      <td>0.394681</td>\n",
       "      <td>-0.00250</td>\n",
       "    </tr>\n",
       "    <tr>\n",
       "      <th>0 days 00:00:00.039237</th>\n",
       "      <td>611057220</td>\n",
       "      <td>0.010524</td>\n",
       "      <td>0.002915</td>\n",
       "      <td>0.057755</td>\n",
       "      <td>0.098617</td>\n",
       "      <td>0.039905</td>\n",
       "      <td>-9.906590</td>\n",
       "      <td>1.30</td>\n",
       "      <td>1.360000</td>\n",
       "      <td>-0.09</td>\n",
       "      <td>-0.126667</td>\n",
       "      <td>0.0</td>\n",
       "      <td>131.996667</td>\n",
       "      <td>50.396234</td>\n",
       "      <td>30.061429</td>\n",
       "      <td>807.39000</td>\n",
       "      <td>-0.289947</td>\n",
       "      <td>0.592022</td>\n",
       "      <td>-0.00375</td>\n",
       "    </tr>\n",
       "    <tr>\n",
       "      <th>0 days 00:00:00.062864</th>\n",
       "      <td>611080847</td>\n",
       "      <td>0.027580</td>\n",
       "      <td>0.006464</td>\n",
       "      <td>0.060288</td>\n",
       "      <td>0.130091</td>\n",
       "      <td>0.004829</td>\n",
       "      <td>-9.914318</td>\n",
       "      <td>1.24</td>\n",
       "      <td>1.370000</td>\n",
       "      <td>-0.08</td>\n",
       "      <td>-0.123333</td>\n",
       "      <td>0.0</td>\n",
       "      <td>132.033333</td>\n",
       "      <td>50.396233</td>\n",
       "      <td>30.061432</td>\n",
       "      <td>807.38875</td>\n",
       "      <td>-0.386596</td>\n",
       "      <td>0.789363</td>\n",
       "      <td>-0.00500</td>\n",
       "    </tr>\n",
       "    <tr>\n",
       "      <th>0 days 00:00:00.063279</th>\n",
       "      <td>611081262</td>\n",
       "      <td>0.037992</td>\n",
       "      <td>0.007545</td>\n",
       "      <td>0.056789</td>\n",
       "      <td>0.096225</td>\n",
       "      <td>0.037750</td>\n",
       "      <td>-9.874369</td>\n",
       "      <td>1.18</td>\n",
       "      <td>1.380000</td>\n",
       "      <td>-0.07</td>\n",
       "      <td>-0.120000</td>\n",
       "      <td>0.0</td>\n",
       "      <td>132.070000</td>\n",
       "      <td>50.396232</td>\n",
       "      <td>30.061435</td>\n",
       "      <td>807.38750</td>\n",
       "      <td>-0.483245</td>\n",
       "      <td>0.986703</td>\n",
       "      <td>-0.00625</td>\n",
       "    </tr>\n",
       "    <tr>\n",
       "      <th>0 days 00:00:00.078835</th>\n",
       "      <td>611096818</td>\n",
       "      <td>0.048404</td>\n",
       "      <td>0.008626</td>\n",
       "      <td>0.053290</td>\n",
       "      <td>0.062358</td>\n",
       "      <td>0.070671</td>\n",
       "      <td>-9.834419</td>\n",
       "      <td>1.18</td>\n",
       "      <td>1.456667</td>\n",
       "      <td>-0.07</td>\n",
       "      <td>-0.120000</td>\n",
       "      <td>0.0</td>\n",
       "      <td>132.100000</td>\n",
       "      <td>50.396231</td>\n",
       "      <td>30.061438</td>\n",
       "      <td>807.38625</td>\n",
       "      <td>-0.579895</td>\n",
       "      <td>1.184044</td>\n",
       "      <td>-0.00750</td>\n",
       "    </tr>\n",
       "  </tbody>\n",
       "</table>\n",
       "</div>"
      ],
      "text/plain": [
       "                         microseconds_from_start      GyrX      GyrY   \n",
       "microseconds_from_start                                                \n",
       "0 days 00:00:00                        611017983 -0.015062  0.003976  \\\n",
       "0 days 00:00:00.019699                 611037682  0.003505  0.005789   \n",
       "0 days 00:00:00.020118                 611038101  0.007014  0.004352   \n",
       "0 days 00:00:00.039237                 611057220  0.010524  0.002915   \n",
       "0 days 00:00:00.062864                 611080847  0.027580  0.006464   \n",
       "0 days 00:00:00.063279                 611081262  0.037992  0.007545   \n",
       "0 days 00:00:00.078835                 611096818  0.048404  0.008626   \n",
       "\n",
       "                             GyrZ      AccX      AccY      AccZ  DesRoll   \n",
       "microseconds_from_start                                                    \n",
       "0 days 00:00:00          0.064576  0.118126 -0.041373 -9.771868     1.36  \\\n",
       "0 days 00:00:00.019699   0.057387  0.056317  0.096426 -9.581341     1.36   \n",
       "0 days 00:00:00.020118   0.057571  0.077467  0.068166 -9.743966     1.36   \n",
       "0 days 00:00:00.039237   0.057755  0.098617  0.039905 -9.906590     1.30   \n",
       "0 days 00:00:00.062864   0.060288  0.130091  0.004829 -9.914318     1.24   \n",
       "0 days 00:00:00.063279   0.056789  0.096225  0.037750 -9.874369     1.18   \n",
       "0 days 00:00:00.078835   0.053290  0.062358  0.070671 -9.834419     1.18   \n",
       "\n",
       "                             Roll  DesPitch     Pitch  DesYaw         Yaw   \n",
       "microseconds_from_start                                                     \n",
       "0 days 00:00:00          1.316667     -0.10 -0.150000     0.0  131.880000  \\\n",
       "0 days 00:00:00.019699   1.333333     -0.10 -0.140000     0.0  131.920000   \n",
       "0 days 00:00:00.020118   1.350000     -0.10 -0.130000     0.0  131.960000   \n",
       "0 days 00:00:00.039237   1.360000     -0.09 -0.126667     0.0  131.996667   \n",
       "0 days 00:00:00.062864   1.370000     -0.08 -0.123333     0.0  132.033333   \n",
       "0 days 00:00:00.063279   1.380000     -0.07 -0.120000     0.0  132.070000   \n",
       "0 days 00:00:00.078835   1.456667     -0.07 -0.120000     0.0  132.100000   \n",
       "\n",
       "                               Lat        Lng        Alt         x         y   \n",
       "microseconds_from_start                                                        \n",
       "0 days 00:00:00          50.396237  30.061421  807.39375  0.000000  0.000000  \\\n",
       "0 days 00:00:00.019699   50.396236  30.061424  807.39250 -0.096649  0.197341   \n",
       "0 days 00:00:00.020118   50.396235  30.061427  807.39125 -0.193298  0.394681   \n",
       "0 days 00:00:00.039237   50.396234  30.061429  807.39000 -0.289947  0.592022   \n",
       "0 days 00:00:00.062864   50.396233  30.061432  807.38875 -0.386596  0.789363   \n",
       "0 days 00:00:00.063279   50.396232  30.061435  807.38750 -0.483245  0.986703   \n",
       "0 days 00:00:00.078835   50.396231  30.061438  807.38625 -0.579895  1.184044   \n",
       "\n",
       "                               z  \n",
       "microseconds_from_start           \n",
       "0 days 00:00:00          0.00000  \n",
       "0 days 00:00:00.019699  -0.00125  \n",
       "0 days 00:00:00.020118  -0.00250  \n",
       "0 days 00:00:00.039237  -0.00375  \n",
       "0 days 00:00:00.062864  -0.00500  \n",
       "0 days 00:00:00.063279  -0.00625  \n",
       "0 days 00:00:00.078835  -0.00750  "
      ]
     },
     "execution_count": 19,
     "metadata": {},
     "output_type": "execute_result"
    }
   ],
   "source": [
    "logs.loc[prev_timestamp:timestamp]"
   ]
  },
  {
   "cell_type": "code",
   "execution_count": 17,
   "metadata": {},
   "outputs": [],
   "source": [
    "prev_timestamp = timestamp"
   ]
  },
  {
   "cell_type": "code",
   "execution_count": 22,
   "metadata": {},
   "outputs": [
    {
     "data": {
      "text/plain": [
       "<Axes: xlabel='x'>"
      ]
     },
     "execution_count": 22,
     "metadata": {},
     "output_type": "execute_result"
    },
    {
     "data": {
      "image/png": "[encoded data removed]",
      "text/plain": [
       "<Figure size 640x480 with 1 Axes>"
      ]
     },
     "metadata": {},
     "output_type": "display_data"
    }
   ],
   "source": [
    "logs.iloc[0:10000].plot(x=\"x\", y=\"y\")"
   ]
  },
  {
   "cell_type": "code",
   "execution_count": null,
   "metadata": {},
   "outputs": [
    {
     "ename": "",
     "evalue": "",
     "output_type": "error",
     "traceback": [
      "\u001b[1;31mCanceled future for execute_request message before replies were done"
     ]
    },
    {
     "ename": "",
     "evalue": "",
     "output_type": "error",
     "traceback": [
      "\u001b[1;31mThe Kernel crashed while executing code in the the current cell or a previous cell. Please review the code in the cell(s) to identify a possible cause of the failure. Click <a href='https://aka.ms/vscodeJupyterKernelCrash'>here</a> for more info. View Jupyter <a href='command:jupyter.viewOutput'>log</a> for further details."
     ]
    }
   ],
   "source": [
    "slam = ORBSLAM3(str(VOCABLUARY_PATH), str(ORB_CONFIG_PATH), orbslam3.Sensor.IMU_MONOCULAR, False)"
   ]
  },
  {
   "cell_type": "code",
   "execution_count": null,
   "metadata": {},
   "outputs": [
    {
     "name": "stderr",
     "output_type": "stream",
     "text": [
      "  8%|▊         | 245/3000 [00:08<01:13, 37.35it/s]"
     ]
    },
    {
     "name": "stdout",
     "output_type": "stream",
     "text": [
      "First KF:1082; Map init KF:0\n",
      "New Map created with 318 points\n"
     ]
    },
    {
     "name": "stderr",
     "output_type": "stream",
     "text": [
      " 14%|█▍        | 429/3000 [00:12<00:56, 45.86it/s]"
     ]
    }
   ],
   "source": [
    "for i in tqdm(range(3000)):\n",
    "    frame = next(vid)\n",
    "    log = logs.iloc[i]\n",
    "    slam.step(frame, log)"
   ]
  },
  {
   "cell_type": "code",
   "execution_count": null,
   "metadata": {},
   "outputs": [],
   "source": [
    "pred_trajectory = slam.get_trajectory_df()"
   ]
  },
  {
   "cell_type": "code",
   "execution_count": null,
   "metadata": {},
   "outputs": [],
   "source": [
    "combined_trajectory = pred_trajectory.join(logs, lsuffix=\"_pred\")"
   ]
  },
  {
   "cell_type": "code",
   "execution_count": null,
   "metadata": {},
   "outputs": [],
   "source": [
    "combined_trajectory = combined_trajectory.interpolate()"
   ]
  },
  {
   "cell_type": "code",
   "execution_count": null,
   "metadata": {},
   "outputs": [],
   "source": [
    "def plot_trajectory(df, column_suffix, ax, title, color):\n",
    "    x_column = f'x{column_suffix}'\n",
    "    y_column = f'y{column_suffix}'\n",
    "\n",
    "    # Plot the trajectory data\n",
    "    ax.plot(df[x_column], df[y_column], label=title, color=color)\n",
    "    ax.set_title(title)\n",
    "    ax.set_xlabel('X (North)')\n",
    "    ax.set_ylabel('Y (East)')\n",
    "    ax.legend()\n",
    "\n",
    "    # Add direction arrows for the trajectory\n",
    "    arrow_scale = 0.2\n",
    "    arrow_step = len(df)\n",
    "    for i in range(0, len(df) - 1, 50):\n",
    "        dx = df[x_column][i + 1] - df[x_column][i]\n",
    "        dy = df[y_column][i + 1] - df[y_column][i]\n",
    "        ax.arrow(\n",
    "            df[x_column][i], df[y_column][i], \n",
    "            arrow_scale * dx, arrow_scale * dy, \n",
    "            shape='full', lw=0, length_includes_head=True, \n",
    "            head_width=0, color=color\n",
    "        )\n"
   ]
  },
  {
   "cell_type": "code",
   "execution_count": null,
   "metadata": {},
   "outputs": [
    {
     "data": {
      "image/png": "[encoded data removed]",
      "text/plain": [
       "<Figure size 1500x500 with 2 Axes>"
      ]
     },
     "metadata": {},
     "output_type": "display_data"
    }
   ],
   "source": [
    "fig, (ax1, ax2) = plt.subplots(1, 2, figsize=(15, 5))\n",
    "\n",
    "plot_trajectory(combined_trajectory, \"\", ax1, \"GPS (NED)\", \"blue\")\n",
    "plot_trajectory(combined_trajectory, \"_pred\", ax2, \"Predicted Position\", \"red\")\n",
    "\n",
    "plt.show()\n"
   ]
  },
  {
   "cell_type": "code",
   "execution_count": null,
   "metadata": {},
   "outputs": [],
   "source": []
  }
 ],
 "metadata": {
  "kernelspec": {
   "display_name": "Python 3",
   "language": "python",
   "name": "python3"
  },
  "language_info": {
   "codemirror_mode": {
    "name": "ipython",
    "version": 3
   },
   "file_extension": ".py",
   "mimetype": "text/x-python",
   "name": "python",
   "nbconvert_exporter": "python",
   "pygments_lexer": "ipython3",
   "version": "3.8.10"
  },
  "orig_nbformat": 4
 },
 "nbformat": 4,
 "nbformat_minor": 2
}
