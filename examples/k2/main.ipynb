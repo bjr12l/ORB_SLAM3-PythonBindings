{
 "cells": [
  {
   "cell_type": "code",
   "execution_count": 1,
   "metadata": {},
   "outputs": [],
   "source": [
    "import cv2\n",
    "import yaml\n",
    "import pandas as pd\n",
    "import orbslam3\n",
    "from tqdm import tqdm\n",
    "from pathlib import Path\n",
    "import matplotlib.pyplot as plt"
   ]
  },
  {
   "cell_type": "code",
   "execution_count": 2,
   "metadata": {},
   "outputs": [],
   "source": [
    "from orbslam_k2 import ORBSLAM3\n",
    "from sensor_utils import sync_video, convert_logs_to_csv, read_synced_logs"
   ]
  },
  {
   "cell_type": "code",
   "execution_count": 3,
   "metadata": {},
   "outputs": [],
   "source": [
    "from main import timedelta_from_string"
   ]
  },
  {
   "cell_type": "code",
   "execution_count": 4,
   "metadata": {},
   "outputs": [],
   "source": [
    "PROJECT_DIR = Path(\"..\") / \"..\"\n",
    "VOCABLUARY_PATH = PROJECT_DIR / \"Vocabluary\" / \"ORBvoc.txt\"\n",
    "\n",
    "VIDEO_FOLDER = Path(\"cam1_lens100_alt600\")\n",
    "CONFIG_PATH = VIDEO_FOLDER / \"config.yaml\"\n",
    "ORB_CONFIG_PATH = VIDEO_FOLDER / \"orb_config.yaml\"\n",
    "\n",
    "DATA_DIR = PROJECT_DIR / \"data\" / \"k2\" / VIDEO_FOLDER"
   ]
  },
  {
   "cell_type": "code",
   "execution_count": 5,
   "metadata": {},
   "outputs": [],
   "source": [
    "with open(str(CONFIG_PATH), \"r\") as f:\n",
    "    config = yaml.load(f, Loader=yaml.BaseLoader)"
   ]
  },
  {
   "cell_type": "code",
   "execution_count": 6,
   "metadata": {},
   "outputs": [],
   "source": [
    "offset = pd.Timedelta(minutes=5, seconds=0) # timedelta_from_string(config[\"offset\"])\n",
    "log_start = timedelta_from_string(config[\"log_start\"]) + offset\n",
    "video_start = timedelta_from_string(config[\"video_start\"]) + offset"
   ]
  },
  {
   "cell_type": "code",
   "execution_count": 7,
   "metadata": {},
   "outputs": [],
   "source": [
    "vid = cv2.VideoCapture(str(DATA_DIR / config[\"video_name\"]))\n",
    "vid, fps = sync_video(vid, video_start)"
   ]
  },
  {
   "cell_type": "code",
   "execution_count": 8,
   "metadata": {},
   "outputs": [],
   "source": [
    "logs = read_synced_logs(DATA_DIR / config[\"csv_log_name\"], fps, log_start)"
   ]
  },
  {
   "cell_type": "code",
   "execution_count": 9,
   "metadata": {},
   "outputs": [
    {
     "name": "stdout",
     "output_type": "stream",
     "text": [
      "\n",
      "ORB-SLAM3 Copyright (C) 2017-2020 Carlos Campos, Richard Elvira, Juan J. Gómez, José M.M. Montiel and Juan D. Tardós, University of Zaragoza.\n",
      "ORB-SLAM2 Copyright (C) 2014-2016 Raúl Mur-Artal, José M.M. Montiel and Juan D. Tardós, University of Zaragoza.\n",
      "This program comes with ABSOLUTELY NO WARRANTY;\n",
      "This is free software, and you are welcome to redistribute it\n",
      "under certain conditions. See LICENSE.txt.\n",
      "\n",
      "Input sensor was set to: Monocular\n",
      "Loading settings from cam1_lens100_alt600/orb_config.yaml\n",
      "\t-Loaded camera 1\n",
      "\t-Loaded image info\n",
      "\t-Loaded ORB settings\n",
      "\t-Loaded viewer settings\n",
      "\t-Loaded Atlas settings\n",
      "\t-Loaded misc parameters\n",
      "----------------------------------\n",
      "SLAM settings: \n",
      "\t-Camera 1 parameters (Pinhole): [ 2339.38 2378.1 1312.66 524.976 ]\n",
      "\t-Camera 1 distortion parameters: [  -0.108419 0.650409 -0.000980865 -0.00764924 -1.69708 ]\n",
      "\t-Original image size: [ 1920 , 1080 ]\n",
      "\t-Current image size: [ 1920 , 1080 ]\n",
      "\t-Camera 1 parameters after resize: [  2339.38 2378.1 1312.66 524.976 ]\n",
      "\t-Sequence FPS: 59\n",
      "\t-Features per image: 1000\n",
      "\t-ORB scale factor: 1.2\n",
      "\t-ORB number of scales: 8\n",
      "\t-Initial FAST threshold: 20\n",
      "\t-Min FAST threshold: 7\n",
      "\n",
      "\n",
      "Loading ORB Vocabulary. This could take a while...\n",
      "Vocabulary loaded!\n",
      "\n",
      "Initialization of Atlas from scratch \n",
      "Creation of new map with id: 0\n",
      "Creation of new map with last KF id: 0\n",
      "Seq. Name: \n",
      "There are 1 cameras in the atlas\n",
      "Camera 0 is pinhole\n"
     ]
    },
    {
     "name": "stderr",
     "output_type": "stream",
     "text": [
      "Viewer.imageViewScale optional parameter does not exist...\n",
      "System.LoadAtlasFromFile optional parameter does not exist...\n",
      "System.SaveAtlasToFile optional parameter does not exist...\n",
      "System.thFarPoints optional parameter does not exist...\n"
     ]
    }
   ],
   "source": [
    "slam = ORBSLAM3(str(VOCABLUARY_PATH), str(ORB_CONFIG_PATH), orbslam3.Sensor.MONOCULAR, True)"
   ]
  },
  {
   "cell_type": "code",
   "execution_count": 10,
   "metadata": {},
   "outputs": [],
   "source": [
    "def display_frame_with_log(frame, log):\n",
    "    # Add log information to the frame\n",
    "    log_text = f\"Log info: x={log['x']:.2f}, y={log['y']:.2f}, z={log['z']:.2f}\"\n",
    "    font = cv2.FONT_HERSHEY_SIMPLEX\n",
    "    font_scale = 0.7\n",
    "    font_color = (255, 255, 255)  # White text\n",
    "    font_thickness = 2\n",
    "    x, y = 10, 30  # Position of the text on the frame\n",
    "    cv2.putText(frame, log_text, (x, y), font, font_scale, font_color, font_thickness, cv2.LINE_AA)\n",
    "\n",
    "    # Show the frame\n",
    "    cv2.imshow(\"Main\", frame)\n",
    "    cv2.waitKey(1)"
   ]
  },
  {
   "cell_type": "code",
   "execution_count": 13,
   "metadata": {},
   "outputs": [
    {
     "data": {
      "text/plain": [
       "(1080, 1920, 3)"
      ]
     },
     "execution_count": 13,
     "metadata": {},
     "output_type": "execute_result"
    }
   ],
   "source": [
    "frame.shape"
   ]
  },
  {
   "cell_type": "code",
   "execution_count": 11,
   "metadata": {},
   "outputs": [
    {
     "name": "stderr",
     "output_type": "stream",
     "text": [
      "  0%|          | 2/5000 [00:00<05:41, 14.65it/s]"
     ]
    },
    {
     "name": "stdout",
     "output_type": "stream",
     "text": [
      "Starting the Viewer\n"
     ]
    },
    {
     "name": "stderr",
     "output_type": "stream",
     "text": [
      " 12%|█▏        | 619/5000 [00:46<05:28, 13.33it/s]\n"
     ]
    },
    {
     "ename": "KeyboardInterrupt",
     "evalue": "",
     "output_type": "error",
     "traceback": [
      "\u001b[0;31m---------------------------------------------------------------------------\u001b[0m",
      "\u001b[0;31mKeyboardInterrupt\u001b[0m                         Traceback (most recent call last)",
      "Cell \u001b[0;32mIn[11], line 4\u001b[0m\n\u001b[1;32m      2\u001b[0m     _, frame \u001b[39m=\u001b[39m vid\u001b[39m.\u001b[39mread()\n\u001b[1;32m      3\u001b[0m     log \u001b[39m=\u001b[39m logs\u001b[39m.\u001b[39miloc[i]\n\u001b[0;32m----> 4\u001b[0m     slam\u001b[39m.\u001b[39;49mstep(frame, log)\n\u001b[1;32m      5\u001b[0m     display_frame_with_log(frame, log)\n\u001b[1;32m      6\u001b[0m cv2\u001b[39m.\u001b[39mdestroyAllWindows()\n",
      "File \u001b[0;32m/opt/ORB_SLAM3-PythonBinding/examples/k2/orbslam_k2.py:29\u001b[0m, in \u001b[0;36mORBSLAM3.step\u001b[0;34m(self, frame, log)\u001b[0m\n\u001b[1;32m     27\u001b[0m \u001b[39mdef\u001b[39;00m \u001b[39mstep\u001b[39m(\u001b[39mself\u001b[39m, frame, log):\n\u001b[1;32m     28\u001b[0m     \u001b[39mif\u001b[39;00m \u001b[39mself\u001b[39m\u001b[39m.\u001b[39msensor \u001b[39m==\u001b[39m orbslam3\u001b[39m.\u001b[39mSensor\u001b[39m.\u001b[39mMONOCULAR:\n\u001b[0;32m---> 29\u001b[0m         \u001b[39mself\u001b[39;49m\u001b[39m.\u001b[39;49mslam_step_mono(frame, log)\n\u001b[1;32m     30\u001b[0m     \u001b[39melif\u001b[39;00m \u001b[39mself\u001b[39m\u001b[39m.\u001b[39msensor \u001b[39m==\u001b[39m orbslam3\u001b[39m.\u001b[39mSensor\u001b[39m.\u001b[39mRGBD:\n\u001b[1;32m     31\u001b[0m         \u001b[39mself\u001b[39m\u001b[39m.\u001b[39mslam_step_rgbd(frame, log)\n",
      "File \u001b[0;32m/opt/ORB_SLAM3-PythonBinding/examples/k2/orbslam_k2.py:36\u001b[0m, in \u001b[0;36mORBSLAM3.slam_step_mono\u001b[0;34m(self, frame, log)\u001b[0m\n\u001b[1;32m     35\u001b[0m \u001b[39mdef\u001b[39;00m \u001b[39mslam_step_mono\u001b[39m(\u001b[39mself\u001b[39m, frame, log):\n\u001b[0;32m---> 36\u001b[0m     \u001b[39mself\u001b[39;49m\u001b[39m.\u001b[39;49mslam\u001b[39m.\u001b[39;49mprocess_image_mono(frame, log[\u001b[39m\"\u001b[39;49m\u001b[39mseconds_from_start\u001b[39;49m\u001b[39m\"\u001b[39;49m], \u001b[39m\"\u001b[39;49m\u001b[39m\"\u001b[39;49m)\n",
      "\u001b[0;31mKeyboardInterrupt\u001b[0m: "
     ]
    }
   ],
   "source": [
    "for i in tqdm(range(5000)):\n",
    "    _, frame = vid.read()\n",
    "    log = logs.iloc[i]\n",
    "    slam.step(frame, log)\n",
    "    display_frame_with_log(frame, log)\n",
    "cv2.destroyAllWindows()"
   ]
  },
  {
   "cell_type": "code",
   "execution_count": 13,
   "metadata": {},
   "outputs": [],
   "source": [
    "pred_trajectory = slam.get_trajectory_df()"
   ]
  },
  {
   "cell_type": "code",
   "execution_count": 47,
   "metadata": {},
   "outputs": [],
   "source": [
    "combined_trajectory = pred_trajectory.join(logs, lsuffix=\"_pred\")"
   ]
  },
  {
   "cell_type": "code",
   "execution_count": 64,
   "metadata": {},
   "outputs": [],
   "source": [
    "combined_trajectory = combined_trajectory.interpolate()"
   ]
  },
  {
   "cell_type": "code",
   "execution_count": 108,
   "metadata": {},
   "outputs": [],
   "source": [
    "def plot_trajectory(df, column_suffix, ax, title, color):\n",
    "    x_column = f'x{column_suffix}'\n",
    "    y_column = f'y{column_suffix}'\n",
    "\n",
    "    # Plot the trajectory data\n",
    "    ax.plot(df[x_column], df[y_column], label=title, color=color)\n",
    "    ax.set_title(title)\n",
    "    ax.set_xlabel('X (North)')\n",
    "    ax.set_ylabel('Y (East)')\n",
    "    ax.legend()\n",
    "\n",
    "    # Add direction arrows for the trajectory\n",
    "    arrow_scale = 0.2\n",
    "    arrow_step = len(df)\n",
    "    for i in range(0, len(df) - 1, 50):\n",
    "        dx = df[x_column][i + 1] - df[x_column][i]\n",
    "        dy = df[y_column][i + 1] - df[y_column][i]\n",
    "        ax.arrow(\n",
    "            df[x_column][i], df[y_column][i], \n",
    "            arrow_scale * dx, arrow_scale * dy, \n",
    "            shape='full', lw=0, length_includes_head=True, \n",
    "            head_width=5, color=color\n",
    "        )\n"
   ]
  },
  {
   "cell_type": "code",
   "execution_count": 109,
   "metadata": {},
   "outputs": [
    {
     "data": {
      "image/png": "[encoded data removed]",
      "text/plain": [
       "<Figure size 1500x500 with 2 Axes>"
      ]
     },
     "metadata": {},
     "output_type": "display_data"
    }
   ],
   "source": [
    "fig, (ax1, ax2) = plt.subplots(1, 2, figsize=(15, 5))\n",
    "\n",
    "plot_trajectory(combined_trajectory, \"\", ax1, \"GPS (NED)\", \"blue\")\n",
    "plot_trajectory(combined_trajectory, \"_pred\", ax2, \"Predicted Position\", \"red\")\n",
    "\n",
    "plt.show()\n"
   ]
  },
  {
   "cell_type": "code",
   "execution_count": null,
   "metadata": {},
   "outputs": [],
   "source": []
  }
 ],
 "metadata": {
  "kernelspec": {
   "display_name": "Python 3",
   "language": "python",
   "name": "python3"
  },
  "language_info": {
   "codemirror_mode": {
    "name": "ipython",
    "version": 3
   },
   "file_extension": ".py",
   "mimetype": "text/x-python",
   "name": "python",
   "nbconvert_exporter": "python",
   "pygments_lexer": "ipython3",
   "version": "3.8.10"
  },
  "orig_nbformat": 4
 },
 "nbformat": 4,
 "nbformat_minor": 2
}
