{
 "cells": [
  {
   "cell_type": "code",
   "execution_count": 26,
   "metadata": {},
   "outputs": [],
   "source": [
    "import orbslam3\n",
    "import pandas as pd\n",
    "import numpy as np\n",
    "import cv2\n",
    "from pathlib import Path"
   ]
  },
  {
   "cell_type": "code",
   "execution_count": 15,
   "metadata": {},
   "outputs": [],
   "source": [
    "from orbslam_k2 import sync_video"
   ]
  },
  {
   "cell_type": "code",
   "execution_count": 3,
   "metadata": {},
   "outputs": [],
   "source": [
    "PROJECT_DIR = Path(\"..\") / \"..\"\n",
    "DATA_DIR = PROJECT_DIR / \"data\""
   ]
  },
  {
   "cell_type": "code",
   "execution_count": 4,
   "metadata": {},
   "outputs": [],
   "source": [
    "GENERAL_OFFSET = pd.Timedelta(minutes=7)\n",
    "LIGHT_START_LOGS = pd.Timedelta(minutes=31, seconds=42) + GENERAL_OFFSET\n",
    "FLIGHT_START_VIDEO = pd.Timedelta(minutes=3, seconds=47) + GENERAL_OFFSET\n",
    "\n",
    "PATH_TO_VOCABLUARY = PROJECT_DIR / \"Vocabluary\" / \"ORBvoc.txt\"\n",
    "PATH_TO_CONFIG = PROJECT_DIR / \"examples\" / \"k2\" / \"k2.yaml\"\n",
    "PATH_TO_VIDEO = DATA_DIR / \"GX010294.MP4\"\n",
    "PATH_TO_LOGS = DATA_DIR / \"log 19.12.22.csv\""
   ]
  },
  {
   "cell_type": "code",
   "execution_count": 17,
   "metadata": {},
   "outputs": [
    {
     "name": "stdout",
     "output_type": "stream",
     "text": [
      "\n",
      "ORB-SLAM3 Copyright (C) 2017-2020 Carlos Campos, Richard Elvira, Juan J. Gómez, José M.M. Montiel and Juan D. Tardós, University of Zaragoza.\n",
      "ORB-SLAM2 Copyright (C) 2014-2016 Raúl Mur-Artal, José M.M. Montiel and Juan D. Tardós, University of Zaragoza.\n",
      "This program comes with ABSOLUTELY NO WARRANTY;\n",
      "This is free software, and you are welcome to redistribute it\n",
      "under certain conditions. See LICENSE.txt.\n",
      "\n",
      "Input sensor was set to: Monocular\n",
      "Loading settings from ../../examples/k2/k2.yaml\n",
      "\t-Loaded camera 1\n",
      "\t-Loaded image info\n",
      "\t-Loaded ORB settings\n",
      "\t-Loaded viewer settings\n",
      "\t-Loaded Atlas settings\n",
      "\t-Loaded misc parameters\n",
      "----------------------------------\n",
      "SLAM settings: \n",
      "\t-Camera 1 parameters (Pinhole): [ 1000 1000 1300 759 ]\n",
      "\t-Camera 1 distortion parameters: [  0 0 0 0 ]\n",
      "\t-Original image size: [ 5312 , 2988 ]\n",
      "\t-Current image size: [ 800 , 450 ]\n",
      "\t-Camera 1 parameters after resize: [  150.602 150.602 195.783 114.307 ]\n",
      "\t-Sequence FPS: 30\n",
      "\t-Features per image: 1000\n",
      "\t-ORB scale factor: 1.2\n",
      "\t-ORB number of scales: 8\n",
      "\t-Initial FAST threshold: 20\n",
      "\t-Min FAST threshold: 7\n",
      "\n",
      "\n",
      "Loading ORB Vocabulary. This could take a while...\n",
      "Vocabulary loaded!\n",
      "\n",
      "Initialization of Atlas from scratch \n",
      "Creation of new map with id: 1\n",
      "Creation of new map with last KF id: 0\n",
      "Seq. Name: \n",
      "There are 1 cameras in the atlas\n",
      "Camera 2 is pinhole\n"
     ]
    },
    {
     "name": "stderr",
     "output_type": "stream",
     "text": [
      "Camera1.k3 optional parameter does not exist...\n",
      "Viewer.imageViewScale optional parameter does not exist...\n",
      "System.LoadAtlasFromFile optional parameter does not exist...\n",
      "System.SaveAtlasToFile optional parameter does not exist...\n",
      "System.thFarPoints optional parameter does not exist...\n"
     ]
    },
    {
     "data": {
      "text/plain": [
       "True"
      ]
     },
     "execution_count": 17,
     "metadata": {},
     "output_type": "execute_result"
    }
   ],
   "source": [
    "slam = orbslam3.System(str(PATH_TO_VOCABLUARY), str(PATH_TO_CONFIG), orbslam3.Sensor.MONOCULAR)\n",
    "# slam.set_use_viewer(True)\n",
    "slam.initialize()"
   ]
  },
  {
   "cell_type": "code",
   "execution_count": 19,
   "metadata": {},
   "outputs": [],
   "source": [
    "vid = cv2.VideoCapture(str(PATH_TO_VIDEO))\n",
    "vid, fps = sync_video(vid, FLIGHT_START_VIDEO)"
   ]
  },
  {
   "cell_type": "code",
   "execution_count": 20,
   "metadata": {},
   "outputs": [
    {
     "name": "stdout",
     "output_type": "stream",
     "text": [
      "First KF:0; Map init KF:0\n",
      "New Map created with 242 points\n"
     ]
    }
   ],
   "source": [
    "for i in range(20):\n",
    "    _, frame = vid.read()\n",
    "    # log = logs.iloc[i]\n",
    "    slam.process_image_mono(frame, vid.get(cv2.CAP_PROP_POS_MSEC) / 1000, \"\")"
   ]
  },
  {
   "cell_type": "code",
   "execution_count": 23,
   "metadata": {},
   "outputs": [],
   "source": [
    "trajectory = slam.get_trajectory_points()"
   ]
  },
  {
   "cell_type": "code",
   "execution_count": 29,
   "metadata": {},
   "outputs": [
    {
     "data": {
      "text/plain": [
       "[(647.1798666666667,\n",
       "  array([[ 9.9993485e-01, -2.9312654e-03,  1.1032001e-02, -3.3444643e-03],\n",
       "         [ 2.6193843e-03,  9.9959946e-01,  2.8179612e-02, -2.1363589e-05],\n",
       "         [-1.1110185e-02, -2.8148878e-02,  9.9954200e-01,  3.4605283e-02],\n",
       "         [ 0.0000000e+00,  0.0000000e+00,  0.0000000e+00,  1.0000000e+00]],\n",
       "        dtype=float32)),\n",
       " (647.2132333333334,\n",
       "  array([[ 0.99990815, -0.00322625,  0.01316379, -0.00485147],\n",
       "         [ 0.00279089,  0.9994528 ,  0.03295752, -0.00136322],\n",
       "         [-0.01326292, -0.03291775,  0.99937004,  0.04060128],\n",
       "         [ 0.        ,  0.        ,  0.        ,  1.        ]],\n",
       "        dtype=float32)),\n",
       " (647.2466000000001,\n",
       "  array([[ 0.99990386, -0.00308895,  0.01352085, -0.00378198],\n",
       "         [ 0.002633  ,  0.9994315 ,  0.03361119,  0.00163567],\n",
       "         [-0.01361699, -0.03357235,  0.99934345,  0.04190423],\n",
       "         [ 0.        ,  0.        ,  0.        ,  1.        ]],\n",
       "        dtype=float32)),\n",
       " (647.2799666666667,\n",
       "  array([[ 9.9992085e-01, -3.3810593e-03,  1.2116814e-02, -5.8363617e-04],\n",
       "         [ 2.9705954e-03,  9.9942642e-01,  3.3734914e-02,  3.5343820e-03],\n",
       "         [-1.2223924e-02, -3.3696249e-02,  9.9935734e-01,  4.0225893e-02],\n",
       "         [ 0.0000000e+00,  0.0000000e+00,  0.0000000e+00,  1.0000000e+00]],\n",
       "        dtype=float32)),\n",
       " (647.3133333333334,\n",
       "  array([[ 0.99986005, -0.00264831,  0.01651746, -0.00445153],\n",
       "         [ 0.00200689,  0.9992477 ,  0.0387287 ,  0.0029981 ],\n",
       "         [-0.0166076 , -0.03869013,  0.99911326,  0.04966067],\n",
       "         [ 0.        ,  0.        ,  0.        ,  1.        ]],\n",
       "        dtype=float32)),\n",
       " (647.3467,\n",
       "  array([[ 0.99985206, -0.00322215,  0.01689718, -0.00264254],\n",
       "         [ 0.00253391,  0.99917245,  0.04059536,  0.00301203],\n",
       "         [-0.017014  , -0.04054654,  0.9990328 ,  0.05203238],\n",
       "         [ 0.        ,  0.        ,  0.        ,  1.        ]],\n",
       "        dtype=float32)),\n",
       " (647.3800666666667,\n",
       "  array([[ 0.9998606 , -0.00313794,  0.01640155, -0.00153081],\n",
       "         [ 0.00251691,  0.99928415,  0.03774864,  0.00774504],\n",
       "         [-0.01650826, -0.03770209,  0.99915266,  0.04971801],\n",
       "         [ 0.        ,  0.        ,  0.        ,  1.        ]],\n",
       "        dtype=float32)),\n",
       " (647.4134333333334,\n",
       "  array([[ 0.9998258 , -0.00333078,  0.01836696, -0.00251935],\n",
       "         [ 0.00252429,  0.9990389 ,  0.04375965,  0.00421833],\n",
       "         [-0.01849507, -0.04370566,  0.99887323,  0.05602534],\n",
       "         [ 0.        ,  0.        ,  0.        ,  1.        ]],\n",
       "        dtype=float32)),\n",
       " (647.4468,\n",
       "  array([[ 9.9981242e-01, -4.1064476e-03,  1.8927664e-02, -2.1294379e-04],\n",
       "         [ 3.2564488e-03,  9.9899417e-01,  4.4721816e-02,  4.5341491e-03],\n",
       "         [-1.9092275e-02, -4.4651791e-02,  9.9882013e-01,  5.8338411e-02],\n",
       "         [ 0.0000000e+00,  0.0000000e+00,  0.0000000e+00,  1.0000000e+00]],\n",
       "        dtype=float32)),\n",
       " (647.4801666666667,\n",
       "  array([[ 9.9981630e-01, -4.0355865e-03,  1.8736700e-02, -6.6320918e-04],\n",
       "         [ 3.2102854e-03,  9.9903208e-01,  4.3870308e-02,  5.4437388e-03],\n",
       "         [-1.8895607e-02, -4.3802101e-02,  9.9886149e-01,  5.7208445e-02],\n",
       "         [ 0.0000000e+00,  0.0000000e+00,  0.0000000e+00,  1.0000000e+00]],\n",
       "        dtype=float32)),\n",
       " (647.5135333333335,\n",
       "  array([[ 0.9997786 , -0.00369716,  0.02071199, -0.00110028],\n",
       "         [ 0.00271546,  0.9988805 ,  0.04722686,  0.00479774],\n",
       "         [-0.0208634 , -0.04716017,  0.99866945,  0.06233559],\n",
       "         [ 0.        ,  0.        ,  0.        ,  1.        ]],\n",
       "        dtype=float32)),\n",
       " (647.5469,\n",
       "  array([[ 0.9997582 , -0.00330363,  0.02174131, -0.00127863],\n",
       "         [ 0.00224251,  0.99881333,  0.04865123,  0.00543345],\n",
       "         [-0.02187623, -0.04859071,  0.9985792 ,  0.06498748],\n",
       "         [ 0.        ,  0.        ,  0.        ,  1.        ]],\n",
       "        dtype=float32)),\n",
       " (647.5802666666667,\n",
       "  array([[ 9.9974269e-01, -3.4566780e-03,  2.2418793e-02, -7.9621526e-04],\n",
       "         [ 2.3465483e-03,  9.9877846e-01,  4.9356416e-02,  5.4667499e-03],\n",
       "         [-2.2562018e-02, -4.9291108e-02,  9.9852961e-01,  6.6487730e-02],\n",
       "         [ 0.0000000e+00,  0.0000000e+00,  0.0000000e+00,  1.0000000e+00]],\n",
       "        dtype=float32)),\n",
       " (647.6136333333334,\n",
       "  array([[ 0.9997581 , -0.00315234,  0.02176627,  0.00106231],\n",
       "         [ 0.00212268,  0.99888474,  0.04716714,  0.00866057],\n",
       "         [-0.02189068, -0.04710952,  0.99864984,  0.06439228],\n",
       "         [ 0.        ,  0.        ,  0.        ,  1.        ]],\n",
       "        dtype=float32))]"
      ]
     },
     "execution_count": 29,
     "metadata": {},
     "output_type": "execute_result"
    }
   ],
   "source": [
    "trajectory"
   ]
  },
  {
   "cell_type": "code",
   "execution_count": null,
   "metadata": {},
   "outputs": [],
   "source": []
  }
 ],
 "metadata": {
  "kernelspec": {
   "display_name": "Python 3",
   "language": "python",
   "name": "python3"
  },
  "language_info": {
   "codemirror_mode": {
    "name": "ipython",
    "version": 3
   },
   "file_extension": ".py",
   "mimetype": "text/x-python",
   "name": "python",
   "nbconvert_exporter": "python",
   "pygments_lexer": "ipython3",
   "version": "3.8.10"
  },
  "orig_nbformat": 4
 },
 "nbformat": 4,
 "nbformat_minor": 2
}
